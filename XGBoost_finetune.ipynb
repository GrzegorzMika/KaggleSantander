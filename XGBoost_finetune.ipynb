{
 "cells": [
  {
   "cell_type": "code",
   "execution_count": 1,
   "metadata": {},
   "outputs": [],
   "source": [
    "import pandas as pd\n",
    "import numpy as np\n",
    "from sklearn import metrics, preprocessing, model_selection\n",
    "import xgboost as xgb\n",
    "import logging\n",
    "import sys"
   ]
  },
  {
   "cell_type": "code",
   "execution_count": 2,
   "metadata": {},
   "outputs": [],
   "source": [
    "# logging.basicConfig(filename='./log.log', level=logging.INFO,\n",
    "#                             format='%(asctime)s %(levelname)s %(name)s %(message)s')\n",
    "# logger = logging.getLogger(__name__)\n",
    "# sys.stdout=open(\"./log.log\",\"w\")"
   ]
  },
  {
   "cell_type": "code",
   "execution_count": 3,
   "metadata": {},
   "outputs": [],
   "source": [
    "def make_submission_prediction(model, X_train, y_train, scaler, csv=False):\n",
    "    data = pd.read_csv('./test.csv')\n",
    "    id_code = np.array(data.ID_code)\n",
    "    X_test = np.array(scaler.transform(data.drop(['ID_code'], 1)))\n",
    "    fpr, tpr, thresholds = metrics.roc_curve(y_train, model.predict(X_train))\n",
    "    optimal_idx = np.argmax(tpr - fpr)\n",
    "    optimal_threshold = thresholds[optimal_idx]\n",
    "    pred = model.predict(X_test)\n",
    "    pred = (pred > optimal_threshold).astype(int)\n",
    "    pred = pd.DataFrame({'ID_code': id_code, 'target': pred})\n",
    "    if csv:\n",
    "        pred.to_csv('prediction.csv', index=False)\n",
    "    return pred"
   ]
  },
  {
   "cell_type": "code",
   "execution_count": 4,
   "metadata": {},
   "outputs": [],
   "source": [
    "def validate_prediction(model, X_train, y_train, X_val, y_val, scaler):\n",
    "    X_test = np.array(scaler.transform(X_val))\n",
    "    fpr, tpr, thresholds = metrics.roc_curve(y_train, model.predict(X_train))\n",
    "    optimal_idx = np.argmax(tpr - fpr)\n",
    "    optimal_threshold = thresholds[optimal_idx]\n",
    "    pred = model.predict(X_test)\n",
    "    pred = (pred > optimal_threshold).astype(int)\n",
    "    print(metrics.roc_auc_score(y_val, pred))\n",
    "    return pred"
   ]
  },
  {
   "cell_type": "code",
   "execution_count": 5,
   "metadata": {
    "scrolled": true
   },
   "outputs": [
    {
     "data": {
      "text/html": [
       "<div>\n",
       "<style scoped>\n",
       "    .dataframe tbody tr th:only-of-type {\n",
       "        vertical-align: middle;\n",
       "    }\n",
       "\n",
       "    .dataframe tbody tr th {\n",
       "        vertical-align: top;\n",
       "    }\n",
       "\n",
       "    .dataframe thead th {\n",
       "        text-align: right;\n",
       "    }\n",
       "</style>\n",
       "<table border=\"1\" class=\"dataframe\">\n",
       "  <thead>\n",
       "    <tr style=\"text-align: right;\">\n",
       "      <th></th>\n",
       "      <th>ID_code</th>\n",
       "      <th>target</th>\n",
       "      <th>var_0</th>\n",
       "      <th>var_1</th>\n",
       "      <th>var_2</th>\n",
       "      <th>var_3</th>\n",
       "      <th>var_4</th>\n",
       "      <th>var_5</th>\n",
       "      <th>var_6</th>\n",
       "      <th>var_7</th>\n",
       "      <th>...</th>\n",
       "      <th>var_190</th>\n",
       "      <th>var_191</th>\n",
       "      <th>var_192</th>\n",
       "      <th>var_193</th>\n",
       "      <th>var_194</th>\n",
       "      <th>var_195</th>\n",
       "      <th>var_196</th>\n",
       "      <th>var_197</th>\n",
       "      <th>var_198</th>\n",
       "      <th>var_199</th>\n",
       "    </tr>\n",
       "  </thead>\n",
       "  <tbody>\n",
       "    <tr>\n",
       "      <th>0</th>\n",
       "      <td>train_0</td>\n",
       "      <td>0</td>\n",
       "      <td>8.9255</td>\n",
       "      <td>-6.7863</td>\n",
       "      <td>11.9081</td>\n",
       "      <td>5.0930</td>\n",
       "      <td>11.4607</td>\n",
       "      <td>-9.2834</td>\n",
       "      <td>5.1187</td>\n",
       "      <td>18.6266</td>\n",
       "      <td>...</td>\n",
       "      <td>4.4354</td>\n",
       "      <td>3.9642</td>\n",
       "      <td>3.1364</td>\n",
       "      <td>1.6910</td>\n",
       "      <td>18.5227</td>\n",
       "      <td>-2.3978</td>\n",
       "      <td>7.8784</td>\n",
       "      <td>8.5635</td>\n",
       "      <td>12.7803</td>\n",
       "      <td>-1.0914</td>\n",
       "    </tr>\n",
       "    <tr>\n",
       "      <th>1</th>\n",
       "      <td>train_1</td>\n",
       "      <td>0</td>\n",
       "      <td>11.5006</td>\n",
       "      <td>-4.1473</td>\n",
       "      <td>13.8588</td>\n",
       "      <td>5.3890</td>\n",
       "      <td>12.3622</td>\n",
       "      <td>7.0433</td>\n",
       "      <td>5.6208</td>\n",
       "      <td>16.5338</td>\n",
       "      <td>...</td>\n",
       "      <td>7.6421</td>\n",
       "      <td>7.7214</td>\n",
       "      <td>2.5837</td>\n",
       "      <td>10.9516</td>\n",
       "      <td>15.4305</td>\n",
       "      <td>2.0339</td>\n",
       "      <td>8.1267</td>\n",
       "      <td>8.7889</td>\n",
       "      <td>18.3560</td>\n",
       "      <td>1.9518</td>\n",
       "    </tr>\n",
       "    <tr>\n",
       "      <th>2</th>\n",
       "      <td>train_2</td>\n",
       "      <td>0</td>\n",
       "      <td>8.6093</td>\n",
       "      <td>-2.7457</td>\n",
       "      <td>12.0805</td>\n",
       "      <td>7.8928</td>\n",
       "      <td>10.5825</td>\n",
       "      <td>-9.0837</td>\n",
       "      <td>6.9427</td>\n",
       "      <td>14.6155</td>\n",
       "      <td>...</td>\n",
       "      <td>2.9057</td>\n",
       "      <td>9.7905</td>\n",
       "      <td>1.6704</td>\n",
       "      <td>1.6858</td>\n",
       "      <td>21.6042</td>\n",
       "      <td>3.1417</td>\n",
       "      <td>-6.5213</td>\n",
       "      <td>8.2675</td>\n",
       "      <td>14.7222</td>\n",
       "      <td>0.3965</td>\n",
       "    </tr>\n",
       "    <tr>\n",
       "      <th>3</th>\n",
       "      <td>train_3</td>\n",
       "      <td>0</td>\n",
       "      <td>11.0604</td>\n",
       "      <td>-2.1518</td>\n",
       "      <td>8.9522</td>\n",
       "      <td>7.1957</td>\n",
       "      <td>12.5846</td>\n",
       "      <td>-1.8361</td>\n",
       "      <td>5.8428</td>\n",
       "      <td>14.9250</td>\n",
       "      <td>...</td>\n",
       "      <td>4.4666</td>\n",
       "      <td>4.7433</td>\n",
       "      <td>0.7178</td>\n",
       "      <td>1.4214</td>\n",
       "      <td>23.0347</td>\n",
       "      <td>-1.2706</td>\n",
       "      <td>-2.9275</td>\n",
       "      <td>10.2922</td>\n",
       "      <td>17.9697</td>\n",
       "      <td>-8.9996</td>\n",
       "    </tr>\n",
       "    <tr>\n",
       "      <th>4</th>\n",
       "      <td>train_4</td>\n",
       "      <td>0</td>\n",
       "      <td>9.8369</td>\n",
       "      <td>-1.4834</td>\n",
       "      <td>12.8746</td>\n",
       "      <td>6.6375</td>\n",
       "      <td>12.2772</td>\n",
       "      <td>2.4486</td>\n",
       "      <td>5.9405</td>\n",
       "      <td>19.2514</td>\n",
       "      <td>...</td>\n",
       "      <td>-1.4905</td>\n",
       "      <td>9.5214</td>\n",
       "      <td>-0.1508</td>\n",
       "      <td>9.1942</td>\n",
       "      <td>13.2876</td>\n",
       "      <td>-1.5121</td>\n",
       "      <td>3.9267</td>\n",
       "      <td>9.5031</td>\n",
       "      <td>17.9974</td>\n",
       "      <td>-8.8104</td>\n",
       "    </tr>\n",
       "  </tbody>\n",
       "</table>\n",
       "<p>5 rows × 202 columns</p>\n",
       "</div>"
      ],
      "text/plain": [
       "   ID_code  target    var_0   var_1    var_2   var_3    var_4   var_5   var_6  \\\n",
       "0  train_0       0   8.9255 -6.7863  11.9081  5.0930  11.4607 -9.2834  5.1187   \n",
       "1  train_1       0  11.5006 -4.1473  13.8588  5.3890  12.3622  7.0433  5.6208   \n",
       "2  train_2       0   8.6093 -2.7457  12.0805  7.8928  10.5825 -9.0837  6.9427   \n",
       "3  train_3       0  11.0604 -2.1518   8.9522  7.1957  12.5846 -1.8361  5.8428   \n",
       "4  train_4       0   9.8369 -1.4834  12.8746  6.6375  12.2772  2.4486  5.9405   \n",
       "\n",
       "     var_7  ...  var_190  var_191  var_192  var_193  var_194  var_195  \\\n",
       "0  18.6266  ...   4.4354   3.9642   3.1364   1.6910  18.5227  -2.3978   \n",
       "1  16.5338  ...   7.6421   7.7214   2.5837  10.9516  15.4305   2.0339   \n",
       "2  14.6155  ...   2.9057   9.7905   1.6704   1.6858  21.6042   3.1417   \n",
       "3  14.9250  ...   4.4666   4.7433   0.7178   1.4214  23.0347  -1.2706   \n",
       "4  19.2514  ...  -1.4905   9.5214  -0.1508   9.1942  13.2876  -1.5121   \n",
       "\n",
       "   var_196  var_197  var_198  var_199  \n",
       "0   7.8784   8.5635  12.7803  -1.0914  \n",
       "1   8.1267   8.7889  18.3560   1.9518  \n",
       "2  -6.5213   8.2675  14.7222   0.3965  \n",
       "3  -2.9275  10.2922  17.9697  -8.9996  \n",
       "4   3.9267   9.5031  17.9974  -8.8104  \n",
       "\n",
       "[5 rows x 202 columns]"
      ]
     },
     "execution_count": 5,
     "metadata": {},
     "output_type": "execute_result"
    }
   ],
   "source": [
    "data = './train.csv'\n",
    "data = pd.read_csv(data)\n",
    "data.head()"
   ]
  },
  {
   "cell_type": "code",
   "execution_count": 6,
   "metadata": {},
   "outputs": [],
   "source": [
    "X = data.drop(['target', 'ID_code'], 1)\n",
    "y = data.target\n",
    "X_train, X_val, y_train, y_val = model_selection.train_test_split(X, y, test_size=0.1)"
   ]
  },
  {
   "cell_type": "code",
   "execution_count": 7,
   "metadata": {},
   "outputs": [
    {
     "data": {
      "text/plain": [
       "8.951238929246692"
      ]
     },
     "execution_count": 7,
     "metadata": {},
     "output_type": "execute_result"
    }
   ],
   "source": [
    "prop = (y == 0).sum().astype(float)/(y == 1).sum()\n",
    "prop"
   ]
  },
  {
   "cell_type": "code",
   "execution_count": 8,
   "metadata": {},
   "outputs": [],
   "source": [
    "QuantileScaler = preprocessing.QuantileTransformer(n_quantiles=10000)\n",
    "QuantileScaler.fit(X_train)\n",
    "X_train = QuantileScaler.transform(X_train)"
   ]
  },
  {
   "cell_type": "markdown",
   "metadata": {},
   "source": [
    "## Based data prepartion finished"
   ]
  },
  {
   "cell_type": "code",
   "execution_count": 9,
   "metadata": {},
   "outputs": [],
   "source": [
    "# params = {'objective':'binary:logistic', 'eval_metric': 'auc', 'n_jobs': 12, 'tree_method': 'gpu_hist', 'verbosity':1, \n",
    "#           'max_depth': 16, 'eta': 0.01, 'subsample': 0.5, 'min_obs_node': 1, \n",
    "#           'booster': 'gbtree', 'scale_pos_weight' : 1/prop,\n",
    "#          }"
   ]
  },
  {
   "cell_type": "code",
   "execution_count": 10,
   "metadata": {},
   "outputs": [],
   "source": [
    "# booster_gpu = xgb.XGBRegressor(**params)"
   ]
  },
  {
   "cell_type": "code",
   "execution_count": 11,
   "metadata": {},
   "outputs": [],
   "source": [
    "# booster_gpu.fit(X_train, np.array(y_train))"
   ]
  },
  {
   "cell_type": "code",
   "execution_count": 12,
   "metadata": {},
   "outputs": [],
   "source": [
    "# validate_prediction(booster_gpu, X_train, y_train, X_val, y_val, QuantileScaler)"
   ]
  },
  {
   "cell_type": "code",
   "execution_count": 13,
   "metadata": {},
   "outputs": [],
   "source": [
    "# make_submission_prediction(booster_gpu, X_train, y_train, QuantileScaler, True)"
   ]
  },
  {
   "cell_type": "markdown",
   "metadata": {},
   "source": [
    "### Model above without any fine-tunning reached 0.63943 in submission validation. Next we will do some EDA and model fine-tunning"
   ]
  },
  {
   "cell_type": "code",
   "execution_count": 14,
   "metadata": {},
   "outputs": [],
   "source": [
    "# import seaborn as sns\n",
    "# corr = X.corr()\n",
    "# ax = sns.heatmap(\n",
    "#     corr, \n",
    "#     vmin=-1, vmax=1, center=0,\n",
    "#     cmap=sns.diverging_palette(20, 220, n=200),\n",
    "#     square=True\n",
    "# )\n",
    "# ax.set_xticklabels(\n",
    "#     ax.get_xticklabels(),\n",
    "#     rotation=45,\n",
    "#     horizontalalignment='right'\n",
    "# )"
   ]
  },
  {
   "cell_type": "code",
   "execution_count": 15,
   "metadata": {},
   "outputs": [],
   "source": [
    "# standardize the validation data before calculating\n",
    "def auc(estimator, X, y):\n",
    "    prediction = estimator.predict(X)\n",
    "    fpr, tpr, thresholds = metrics.roc_curve(y, prediction)\n",
    "    optimal_idx = np.argmax(tpr - fpr)\n",
    "    optimal_threshold = thresholds[optimal_idx]\n",
    "    pred = (prediction > optimal_threshold).astype(int)\n",
    "    return metrics.roc_auc_score(y, pred)"
   ]
  },
  {
   "cell_type": "code",
   "execution_count": 16,
   "metadata": {},
   "outputs": [],
   "source": [
    "params = {'objective':'binary:logistic', 'eval_metric': 'auc', 'n_jobs': 12, 'tree_method': 'gpu_hist', \n",
    "          'verbosity':1, 'booster': 'gbtree', 'scale_pos_weight' : 1/prop,\n",
    "          'eta': 0.01, 'subsample': 0.5, 'min_obs_node': 1, \n",
    "         }\n",
    "booster = xgb.XGBRegressor(**params)"
   ]
  },
  {
   "cell_type": "code",
   "execution_count": 17,
   "metadata": {},
   "outputs": [],
   "source": [
    "grid = {'max_bin': [100, 250, 1000],\n",
    "        'grow_policy': ['lossguide', 'depthwise'],\n",
    "        'max_leaves': [0, 10, 100],\n",
    "        'alpha': np.exp(np.linspace(-10, 10, 10)),\n",
    "        'lambda': np.exp(np.linspace(-10, 10, 10)),\n",
    "        'colsample_bytree': [0.2, 0.5, 0.8, 1],\n",
    "        'colsample_bylevel': [0.2, 0.5, 0.8, 1],\n",
    "        'colsample_bynode': [0.2, 0.5, 0.8, 1],\n",
    "        'subsample': [0.2, 0.5, 0.8, 1],\n",
    "        'max_delta_step': [0, 1, 10],\n",
    "        'min_child_weight': [1, 5, 10, 100],\n",
    "        'max_depth': [3, 5, 16, 50, 100], \n",
    "        'gamma': np.exp(np.linspace(-10, 10, 10)),\n",
    "        'eta': np.exp(np.linspace(-5, 0, 10)),\n",
    "        'n_estimators': [100, 500, 1000, 5000],\n",
    "        'learning_rate': [0.01, 0.1]}"
   ]
  },
  {
   "cell_type": "code",
   "execution_count": 18,
   "metadata": {},
   "outputs": [],
   "source": [
    "rs = model_selection.RandomizedSearchCV(cv=3, n_jobs=1, verbose=100, scoring=auc,\n",
    "                                       estimator=booster, param_distributions=grid, n_iter=5)"
   ]
  },
  {
   "cell_type": "code",
   "execution_count": 19,
   "metadata": {},
   "outputs": [
    {
     "name": "stdout",
     "output_type": "stream",
     "text": [
      "Fitting 3 folds for each of 5 candidates, totalling 15 fits\n",
      "[Parallel(n_jobs=1)]: Using backend SequentialBackend with 1 concurrent workers.\n",
      "[CV] subsample=1, n_estimators=1000, min_child_weight=100, max_leaves=10, max_depth=100, max_delta_step=1, max_bin=250, learning_rate=0.01, lambda=2386.9645567479115, grow_policy=lossguide, gamma=258.67063051550025, eta=1.0, colsample_bytree=0.2, colsample_bynode=1, colsample_bylevel=1, alpha=0.0004189421234483841 \n",
      "[CV]  subsample=1, n_estimators=1000, min_child_weight=100, max_leaves=10, max_depth=100, max_delta_step=1, max_bin=250, learning_rate=0.01, lambda=2386.9645567479115, grow_policy=lossguide, gamma=258.67063051550025, eta=1.0, colsample_bytree=0.2, colsample_bynode=1, colsample_bylevel=1, alpha=0.0004189421234483841, score=0.750, total=  10.2s\n",
      "[Parallel(n_jobs=1)]: Done   1 out of   1 | elapsed:   10.2s remaining:    0.0s\n",
      "[CV] subsample=1, n_estimators=1000, min_child_weight=100, max_leaves=10, max_depth=100, max_delta_step=1, max_bin=250, learning_rate=0.01, lambda=2386.9645567479115, grow_policy=lossguide, gamma=258.67063051550025, eta=1.0, colsample_bytree=0.2, colsample_bynode=1, colsample_bylevel=1, alpha=0.0004189421234483841 \n",
      "[CV]  subsample=1, n_estimators=1000, min_child_weight=100, max_leaves=10, max_depth=100, max_delta_step=1, max_bin=250, learning_rate=0.01, lambda=2386.9645567479115, grow_policy=lossguide, gamma=258.67063051550025, eta=1.0, colsample_bytree=0.2, colsample_bynode=1, colsample_bylevel=1, alpha=0.0004189421234483841, score=0.758, total=  10.0s\n",
      "[Parallel(n_jobs=1)]: Done   2 out of   2 | elapsed:   20.3s remaining:    0.0s\n",
      "[CV] subsample=1, n_estimators=1000, min_child_weight=100, max_leaves=10, max_depth=100, max_delta_step=1, max_bin=250, learning_rate=0.01, lambda=2386.9645567479115, grow_policy=lossguide, gamma=258.67063051550025, eta=1.0, colsample_bytree=0.2, colsample_bynode=1, colsample_bylevel=1, alpha=0.0004189421234483841 \n",
      "[CV]  subsample=1, n_estimators=1000, min_child_weight=100, max_leaves=10, max_depth=100, max_delta_step=1, max_bin=250, learning_rate=0.01, lambda=2386.9645567479115, grow_policy=lossguide, gamma=258.67063051550025, eta=1.0, colsample_bytree=0.2, colsample_bynode=1, colsample_bylevel=1, alpha=0.0004189421234483841, score=0.752, total=  10.0s\n",
      "[Parallel(n_jobs=1)]: Done   3 out of   3 | elapsed:   30.3s remaining:    0.0s\n",
      "[CV] subsample=0.2, n_estimators=100, min_child_weight=100, max_leaves=100, max_depth=16, max_delta_step=0, max_bin=100, learning_rate=0.1, lambda=0.0038659201394728076, grow_policy=depthwise, gamma=2386.9645567479115, eta=0.18887560283756186, colsample_bytree=1, colsample_bynode=0.5, colsample_bylevel=0.2, alpha=3.0377317775174815 \n",
      "[CV]  subsample=0.2, n_estimators=100, min_child_weight=100, max_leaves=100, max_depth=16, max_delta_step=0, max_bin=100, learning_rate=0.1, lambda=0.0038659201394728076, grow_policy=depthwise, gamma=2386.9645567479115, eta=0.18887560283756186, colsample_bytree=1, colsample_bynode=0.5, colsample_bylevel=0.2, alpha=3.0377317775174815, score=0.698, total=   1.2s\n",
      "[Parallel(n_jobs=1)]: Done   4 out of   4 | elapsed:   31.5s remaining:    0.0s\n",
      "[CV] subsample=0.2, n_estimators=100, min_child_weight=100, max_leaves=100, max_depth=16, max_delta_step=0, max_bin=100, learning_rate=0.1, lambda=0.0038659201394728076, grow_policy=depthwise, gamma=2386.9645567479115, eta=0.18887560283756186, colsample_bytree=1, colsample_bynode=0.5, colsample_bylevel=0.2, alpha=3.0377317775174815 \n",
      "[CV]  subsample=0.2, n_estimators=100, min_child_weight=100, max_leaves=100, max_depth=16, max_delta_step=0, max_bin=100, learning_rate=0.1, lambda=0.0038659201394728076, grow_policy=depthwise, gamma=2386.9645567479115, eta=0.18887560283756186, colsample_bytree=1, colsample_bynode=0.5, colsample_bylevel=0.2, alpha=3.0377317775174815, score=0.704, total=   1.2s\n",
      "[Parallel(n_jobs=1)]: Done   5 out of   5 | elapsed:   32.8s remaining:    0.0s\n",
      "[CV] subsample=0.2, n_estimators=100, min_child_weight=100, max_leaves=100, max_depth=16, max_delta_step=0, max_bin=100, learning_rate=0.1, lambda=0.0038659201394728076, grow_policy=depthwise, gamma=2386.9645567479115, eta=0.18887560283756186, colsample_bytree=1, colsample_bynode=0.5, colsample_bylevel=0.2, alpha=3.0377317775174815 \n",
      "[CV]  subsample=0.2, n_estimators=100, min_child_weight=100, max_leaves=100, max_depth=16, max_delta_step=0, max_bin=100, learning_rate=0.1, lambda=0.0038659201394728076, grow_policy=depthwise, gamma=2386.9645567479115, eta=0.18887560283756186, colsample_bytree=1, colsample_bynode=0.5, colsample_bylevel=0.2, alpha=3.0377317775174815, score=0.698, total=   1.2s\n",
      "[Parallel(n_jobs=1)]: Done   6 out of   6 | elapsed:   34.0s remaining:    0.0s\n",
      "[CV] subsample=1, n_estimators=500, min_child_weight=10, max_leaves=0, max_depth=50, max_delta_step=0, max_bin=250, learning_rate=0.1, lambda=28.03162489452615, grow_policy=depthwise, gamma=28.03162489452615, eta=0.006737946999085467, colsample_bytree=1, colsample_bynode=0.2, colsample_bylevel=0.5, alpha=2386.9645567479115 \n",
      "[CV]  subsample=1, n_estimators=500, min_child_weight=10, max_leaves=0, max_depth=50, max_delta_step=0, max_bin=250, learning_rate=0.1, lambda=28.03162489452615, grow_policy=depthwise, gamma=28.03162489452615, eta=0.006737946999085467, colsample_bytree=1, colsample_bynode=0.2, colsample_bylevel=0.5, alpha=2386.9645567479115, score=0.803, total=  13.2s\n",
      "[Parallel(n_jobs=1)]: Done   7 out of   7 | elapsed:   47.2s remaining:    0.0s\n",
      "[CV] subsample=1, n_estimators=500, min_child_weight=10, max_leaves=0, max_depth=50, max_delta_step=0, max_bin=250, learning_rate=0.1, lambda=28.03162489452615, grow_policy=depthwise, gamma=28.03162489452615, eta=0.006737946999085467, colsample_bytree=1, colsample_bynode=0.2, colsample_bylevel=0.5, alpha=2386.9645567479115 \n",
      "[CV]  subsample=1, n_estimators=500, min_child_weight=10, max_leaves=0, max_depth=50, max_delta_step=0, max_bin=250, learning_rate=0.1, lambda=28.03162489452615, grow_policy=depthwise, gamma=28.03162489452615, eta=0.006737946999085467, colsample_bytree=1, colsample_bynode=0.2, colsample_bylevel=0.5, alpha=2386.9645567479115, score=0.813, total=  13.2s\n",
      "[Parallel(n_jobs=1)]: Done   8 out of   8 | elapsed:  1.0min remaining:    0.0s\n",
      "[CV] subsample=1, n_estimators=500, min_child_weight=10, max_leaves=0, max_depth=50, max_delta_step=0, max_bin=250, learning_rate=0.1, lambda=28.03162489452615, grow_policy=depthwise, gamma=28.03162489452615, eta=0.006737946999085467, colsample_bytree=1, colsample_bynode=0.2, colsample_bylevel=0.5, alpha=2386.9645567479115 \n",
      "[CV]  subsample=1, n_estimators=500, min_child_weight=10, max_leaves=0, max_depth=50, max_delta_step=0, max_bin=250, learning_rate=0.1, lambda=28.03162489452615, grow_policy=depthwise, gamma=28.03162489452615, eta=0.006737946999085467, colsample_bytree=1, colsample_bynode=0.2, colsample_bylevel=0.5, alpha=2386.9645567479115, score=0.810, total=  13.1s\n",
      "[Parallel(n_jobs=1)]: Done   9 out of   9 | elapsed:  1.2min remaining:    0.0s\n",
      "[CV] subsample=1, n_estimators=5000, min_child_weight=1, max_leaves=100, max_depth=5, max_delta_step=10, max_bin=250, learning_rate=0.01, lambda=3.0377317775174815, grow_policy=depthwise, gamma=258.67063051550025, eta=0.06217652402211632, colsample_bytree=0.5, colsample_bynode=0.2, colsample_bylevel=0.8, alpha=0.0004189421234483841 \n",
      "[CV]  subsample=1, n_estimators=5000, min_child_weight=1, max_leaves=100, max_depth=5, max_delta_step=10, max_bin=250, learning_rate=0.01, lambda=3.0377317775174815, grow_policy=depthwise, gamma=258.67063051550025, eta=0.06217652402211632, colsample_bytree=0.5, colsample_bynode=0.2, colsample_bylevel=0.8, alpha=0.0004189421234483841, score=0.806, total=  54.3s\n",
      "[Parallel(n_jobs=1)]: Done  10 out of  10 | elapsed:  2.1min remaining:    0.0s\n",
      "[CV] subsample=1, n_estimators=5000, min_child_weight=1, max_leaves=100, max_depth=5, max_delta_step=10, max_bin=250, learning_rate=0.01, lambda=3.0377317775174815, grow_policy=depthwise, gamma=258.67063051550025, eta=0.06217652402211632, colsample_bytree=0.5, colsample_bynode=0.2, colsample_bylevel=0.8, alpha=0.0004189421234483841 \n",
      "[CV]  subsample=1, n_estimators=5000, min_child_weight=1, max_leaves=100, max_depth=5, max_delta_step=10, max_bin=250, learning_rate=0.01, lambda=3.0377317775174815, grow_policy=depthwise, gamma=258.67063051550025, eta=0.06217652402211632, colsample_bytree=0.5, colsample_bynode=0.2, colsample_bylevel=0.8, alpha=0.0004189421234483841, score=0.817, total=  54.4s\n",
      "[Parallel(n_jobs=1)]: Done  11 out of  11 | elapsed:  3.0min remaining:    0.0s\n",
      "[CV] subsample=1, n_estimators=5000, min_child_weight=1, max_leaves=100, max_depth=5, max_delta_step=10, max_bin=250, learning_rate=0.01, lambda=3.0377317775174815, grow_policy=depthwise, gamma=258.67063051550025, eta=0.06217652402211632, colsample_bytree=0.5, colsample_bynode=0.2, colsample_bylevel=0.8, alpha=0.0004189421234483841 \n"
     ]
    },
    {
     "name": "stdout",
     "output_type": "stream",
     "text": [
      "[CV]  subsample=1, n_estimators=5000, min_child_weight=1, max_leaves=100, max_depth=5, max_delta_step=10, max_bin=250, learning_rate=0.01, lambda=3.0377317775174815, grow_policy=depthwise, gamma=258.67063051550025, eta=0.06217652402211632, colsample_bytree=0.5, colsample_bynode=0.2, colsample_bylevel=0.8, alpha=0.0004189421234483841, score=0.813, total=  54.7s\n",
      "[Parallel(n_jobs=1)]: Done  12 out of  12 | elapsed:  3.9min remaining:    0.0s\n",
      "[CV] subsample=0.2, n_estimators=1000, min_child_weight=5, max_leaves=0, max_depth=50, max_delta_step=0, max_bin=250, learning_rate=0.01, lambda=3.0377317775174815, grow_policy=lossguide, gamma=28.03162489452615, eta=0.32919298780790573, colsample_bytree=1, colsample_bynode=0.5, colsample_bylevel=1, alpha=0.32919298780790573 \n",
      "[CV]  subsample=0.2, n_estimators=1000, min_child_weight=5, max_leaves=0, max_depth=50, max_delta_step=0, max_bin=250, learning_rate=0.01, lambda=3.0377317775174815, grow_policy=lossguide, gamma=28.03162489452615, eta=0.32919298780790573, colsample_bytree=1, colsample_bynode=0.5, colsample_bylevel=1, alpha=0.32919298780790573, score=0.791, total=  19.2s\n",
      "[Parallel(n_jobs=1)]: Done  13 out of  13 | elapsed:  4.3min remaining:    0.0s\n",
      "[CV] subsample=0.2, n_estimators=1000, min_child_weight=5, max_leaves=0, max_depth=50, max_delta_step=0, max_bin=250, learning_rate=0.01, lambda=3.0377317775174815, grow_policy=lossguide, gamma=28.03162489452615, eta=0.32919298780790573, colsample_bytree=1, colsample_bynode=0.5, colsample_bylevel=1, alpha=0.32919298780790573 \n",
      "[CV]  subsample=0.2, n_estimators=1000, min_child_weight=5, max_leaves=0, max_depth=50, max_delta_step=0, max_bin=250, learning_rate=0.01, lambda=3.0377317775174815, grow_policy=lossguide, gamma=28.03162489452615, eta=0.32919298780790573, colsample_bytree=1, colsample_bynode=0.5, colsample_bylevel=1, alpha=0.32919298780790573, score=0.801, total=  19.2s\n",
      "[Parallel(n_jobs=1)]: Done  14 out of  14 | elapsed:  4.6min remaining:    0.0s\n",
      "[CV] subsample=0.2, n_estimators=1000, min_child_weight=5, max_leaves=0, max_depth=50, max_delta_step=0, max_bin=250, learning_rate=0.01, lambda=3.0377317775174815, grow_policy=lossguide, gamma=28.03162489452615, eta=0.32919298780790573, colsample_bytree=1, colsample_bynode=0.5, colsample_bylevel=1, alpha=0.32919298780790573 \n",
      "[CV]  subsample=0.2, n_estimators=1000, min_child_weight=5, max_leaves=0, max_depth=50, max_delta_step=0, max_bin=250, learning_rate=0.01, lambda=3.0377317775174815, grow_policy=lossguide, gamma=28.03162489452615, eta=0.32919298780790573, colsample_bytree=1, colsample_bynode=0.5, colsample_bylevel=1, alpha=0.32919298780790573, score=0.797, total=  19.1s\n",
      "[Parallel(n_jobs=1)]: Done  15 out of  15 | elapsed:  4.9min remaining:    0.0s\n",
      "[Parallel(n_jobs=1)]: Done  15 out of  15 | elapsed:  4.9min finished\n",
      "CPU times: user 6min 19s, sys: 1min 7s, total: 7min 26s\n",
      "Wall time: 5min 54s\n"
     ]
    },
    {
     "data": {
      "text/plain": [
       "RandomizedSearchCV(cv=3, error_score='raise-deprecating',\n",
       "                   estimator=XGBRegressor(base_score=0.5, booster='gbtree',\n",
       "                                          colsample_bylevel=1,\n",
       "                                          colsample_bynode=1,\n",
       "                                          colsample_bytree=1, eta=0.01,\n",
       "                                          eval_metric='auc', gamma=0,\n",
       "                                          importance_type='gain',\n",
       "                                          learning_rate=0.1, max_delta_step=0,\n",
       "                                          max_depth=3, min_child_weight=1,\n",
       "                                          min_obs_node=1, missing=None,\n",
       "                                          n_estimators=100, n_jobs=12,\n",
       "                                          nt...\n",
       "                                        'learning_rate': [0.01, 0.1],\n",
       "                                        'max_bin': [100, 250, 1000],\n",
       "                                        'max_delta_step': [0, 1, 10],\n",
       "                                        'max_depth': [3, 5, 16, 50, 100],\n",
       "                                        'max_leaves': [0, 10, 100],\n",
       "                                        'min_child_weight': [1, 5, 10, 100],\n",
       "                                        'n_estimators': [100, 500, 1000, 5000],\n",
       "                                        'subsample': [0.2, 0.5, 0.8, 1]},\n",
       "                   pre_dispatch='2*n_jobs', random_state=None, refit=True,\n",
       "                   return_train_score=False,\n",
       "                   scoring=<function auc at 0x7f7cdc1e9ea0>, verbose=100)"
      ]
     },
     "execution_count": 19,
     "metadata": {},
     "output_type": "execute_result"
    }
   ],
   "source": [
    "%time rs.fit(X_train, np.array(y_train))"
   ]
  },
  {
   "cell_type": "code",
   "execution_count": 20,
   "metadata": {},
   "outputs": [],
   "source": [
    "# sys.stdout.close()"
   ]
  },
  {
   "cell_type": "code",
   "execution_count": 21,
   "metadata": {},
   "outputs": [
    {
     "data": {
      "text/plain": [
       "{'subsample': 1,\n",
       " 'n_estimators': 5000,\n",
       " 'min_child_weight': 1,\n",
       " 'max_leaves': 100,\n",
       " 'max_depth': 5,\n",
       " 'max_delta_step': 10,\n",
       " 'max_bin': 250,\n",
       " 'learning_rate': 0.01,\n",
       " 'lambda': 3.0377317775174815,\n",
       " 'grow_policy': 'depthwise',\n",
       " 'gamma': 258.67063051550025,\n",
       " 'eta': 0.06217652402211632,\n",
       " 'colsample_bytree': 0.5,\n",
       " 'colsample_bynode': 0.2,\n",
       " 'colsample_bylevel': 0.8,\n",
       " 'alpha': 0.0004189421234483841}"
      ]
     },
     "execution_count": 21,
     "metadata": {},
     "output_type": "execute_result"
    }
   ],
   "source": [
    "rs.best_params_"
   ]
  },
  {
   "cell_type": "code",
   "execution_count": 23,
   "metadata": {},
   "outputs": [
    {
     "name": "stdout",
     "output_type": "stream",
     "text": [
      "0.8060829090420257\n"
     ]
    },
    {
     "data": {
      "text/plain": [
       "array([1, 0, 0, ..., 1, 0, 0])"
      ]
     },
     "execution_count": 23,
     "metadata": {},
     "output_type": "execute_result"
    }
   ],
   "source": [
    "validate_prediction(rs.best_estimator_, X_train, y_train, X_val, y_val, QuantileScaler)"
   ]
  },
  {
   "cell_type": "code",
   "execution_count": 25,
   "metadata": {},
   "outputs": [
    {
     "data": {
      "text/html": [
       "<div>\n",
       "<style scoped>\n",
       "    .dataframe tbody tr th:only-of-type {\n",
       "        vertical-align: middle;\n",
       "    }\n",
       "\n",
       "    .dataframe tbody tr th {\n",
       "        vertical-align: top;\n",
       "    }\n",
       "\n",
       "    .dataframe thead th {\n",
       "        text-align: right;\n",
       "    }\n",
       "</style>\n",
       "<table border=\"1\" class=\"dataframe\">\n",
       "  <thead>\n",
       "    <tr style=\"text-align: right;\">\n",
       "      <th></th>\n",
       "      <th>ID_code</th>\n",
       "      <th>target</th>\n",
       "    </tr>\n",
       "  </thead>\n",
       "  <tbody>\n",
       "    <tr>\n",
       "      <th>0</th>\n",
       "      <td>test_0</td>\n",
       "      <td>0</td>\n",
       "    </tr>\n",
       "    <tr>\n",
       "      <th>1</th>\n",
       "      <td>test_1</td>\n",
       "      <td>1</td>\n",
       "    </tr>\n",
       "    <tr>\n",
       "      <th>2</th>\n",
       "      <td>test_2</td>\n",
       "      <td>1</td>\n",
       "    </tr>\n",
       "    <tr>\n",
       "      <th>3</th>\n",
       "      <td>test_3</td>\n",
       "      <td>0</td>\n",
       "    </tr>\n",
       "    <tr>\n",
       "      <th>4</th>\n",
       "      <td>test_4</td>\n",
       "      <td>0</td>\n",
       "    </tr>\n",
       "    <tr>\n",
       "      <th>...</th>\n",
       "      <td>...</td>\n",
       "      <td>...</td>\n",
       "    </tr>\n",
       "    <tr>\n",
       "      <th>199995</th>\n",
       "      <td>test_199995</td>\n",
       "      <td>0</td>\n",
       "    </tr>\n",
       "    <tr>\n",
       "      <th>199996</th>\n",
       "      <td>test_199996</td>\n",
       "      <td>0</td>\n",
       "    </tr>\n",
       "    <tr>\n",
       "      <th>199997</th>\n",
       "      <td>test_199997</td>\n",
       "      <td>0</td>\n",
       "    </tr>\n",
       "    <tr>\n",
       "      <th>199998</th>\n",
       "      <td>test_199998</td>\n",
       "      <td>0</td>\n",
       "    </tr>\n",
       "    <tr>\n",
       "      <th>199999</th>\n",
       "      <td>test_199999</td>\n",
       "      <td>0</td>\n",
       "    </tr>\n",
       "  </tbody>\n",
       "</table>\n",
       "<p>200000 rows × 2 columns</p>\n",
       "</div>"
      ],
      "text/plain": [
       "            ID_code  target\n",
       "0            test_0       0\n",
       "1            test_1       1\n",
       "2            test_2       1\n",
       "3            test_3       0\n",
       "4            test_4       0\n",
       "...             ...     ...\n",
       "199995  test_199995       0\n",
       "199996  test_199996       0\n",
       "199997  test_199997       0\n",
       "199998  test_199998       0\n",
       "199999  test_199999       0\n",
       "\n",
       "[200000 rows x 2 columns]"
      ]
     },
     "execution_count": 25,
     "metadata": {},
     "output_type": "execute_result"
    }
   ],
   "source": [
    "make_submission_prediction(rs.best_estimator_, X_train, y_train, QuantileScaler, csv=True)"
   ]
  },
  {
   "cell_type": "code",
   "execution_count": 39,
   "metadata": {},
   "outputs": [
    {
     "data": {
      "text/html": [
       "<div>\n",
       "<style scoped>\n",
       "    .dataframe tbody tr th:only-of-type {\n",
       "        vertical-align: middle;\n",
       "    }\n",
       "\n",
       "    .dataframe tbody tr th {\n",
       "        vertical-align: top;\n",
       "    }\n",
       "\n",
       "    .dataframe thead th {\n",
       "        text-align: right;\n",
       "    }\n",
       "</style>\n",
       "<table border=\"1\" class=\"dataframe\">\n",
       "  <thead>\n",
       "    <tr style=\"text-align: right;\">\n",
       "      <th></th>\n",
       "      <th>0</th>\n",
       "    </tr>\n",
       "  </thead>\n",
       "  <tbody>\n",
       "    <tr>\n",
       "      <th>subsample</th>\n",
       "      <td>1</td>\n",
       "    </tr>\n",
       "    <tr>\n",
       "      <th>n_estimators</th>\n",
       "      <td>5000</td>\n",
       "    </tr>\n",
       "    <tr>\n",
       "      <th>min_child_weight</th>\n",
       "      <td>1</td>\n",
       "    </tr>\n",
       "    <tr>\n",
       "      <th>max_leaves</th>\n",
       "      <td>100</td>\n",
       "    </tr>\n",
       "    <tr>\n",
       "      <th>max_depth</th>\n",
       "      <td>5</td>\n",
       "    </tr>\n",
       "    <tr>\n",
       "      <th>max_delta_step</th>\n",
       "      <td>10</td>\n",
       "    </tr>\n",
       "    <tr>\n",
       "      <th>max_bin</th>\n",
       "      <td>250</td>\n",
       "    </tr>\n",
       "    <tr>\n",
       "      <th>learning_rate</th>\n",
       "      <td>0.01</td>\n",
       "    </tr>\n",
       "    <tr>\n",
       "      <th>lambda</th>\n",
       "      <td>3.03773</td>\n",
       "    </tr>\n",
       "    <tr>\n",
       "      <th>grow_policy</th>\n",
       "      <td>depthwise</td>\n",
       "    </tr>\n",
       "    <tr>\n",
       "      <th>gamma</th>\n",
       "      <td>258.671</td>\n",
       "    </tr>\n",
       "    <tr>\n",
       "      <th>eta</th>\n",
       "      <td>0.0621765</td>\n",
       "    </tr>\n",
       "    <tr>\n",
       "      <th>colsample_bytree</th>\n",
       "      <td>0.5</td>\n",
       "    </tr>\n",
       "    <tr>\n",
       "      <th>colsample_bynode</th>\n",
       "      <td>0.2</td>\n",
       "    </tr>\n",
       "    <tr>\n",
       "      <th>colsample_bylevel</th>\n",
       "      <td>0.8</td>\n",
       "    </tr>\n",
       "    <tr>\n",
       "      <th>alpha</th>\n",
       "      <td>0.000418942</td>\n",
       "    </tr>\n",
       "  </tbody>\n",
       "</table>\n",
       "</div>"
      ],
      "text/plain": [
       "                             0\n",
       "subsample                    1\n",
       "n_estimators              5000\n",
       "min_child_weight             1\n",
       "max_leaves                 100\n",
       "max_depth                    5\n",
       "max_delta_step              10\n",
       "max_bin                    250\n",
       "learning_rate             0.01\n",
       "lambda                 3.03773\n",
       "grow_policy          depthwise\n",
       "gamma                  258.671\n",
       "eta                  0.0621765\n",
       "colsample_bytree           0.5\n",
       "colsample_bynode           0.2\n",
       "colsample_bylevel          0.8\n",
       "alpha              0.000418942"
      ]
     },
     "execution_count": 39,
     "metadata": {},
     "output_type": "execute_result"
    }
   ],
   "source": [
    "pd.DataFrame([rs.best_params_]).transpose()"
   ]
  },
  {
   "cell_type": "code",
   "execution_count": null,
   "metadata": {},
   "outputs": [],
   "source": []
  }
 ],
 "metadata": {
  "kernelspec": {
   "display_name": "Python 3",
   "language": "python",
   "name": "python3"
  },
  "language_info": {
   "codemirror_mode": {
    "name": "ipython",
    "version": 3
   },
   "file_extension": ".py",
   "mimetype": "text/x-python",
   "name": "python",
   "nbconvert_exporter": "python",
   "pygments_lexer": "ipython3",
   "version": "3.6.9"
  }
 },
 "nbformat": 4,
 "nbformat_minor": 2
}
