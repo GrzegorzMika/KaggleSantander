{
 "cells": [
  {
   "cell_type": "code",
   "execution_count": 72,
   "metadata": {},
   "outputs": [],
   "source": [
    "import os\n",
    "import gc\n",
    "import numpy as np\n",
    "import pandas as pd\n",
    "import matplotlib.pyplot as plt\n",
    "from sklearn.preprocessing import StandardScaler\n",
    "from sklearn import model_selection\n",
    "from sklearn import metrics\n",
    "import keras as k\n",
    "from sklearn.metrics import f1_score, precision_score, recall_score, roc_auc_score, average_precision_score"
   ]
  },
  {
   "cell_type": "code",
   "execution_count": 2,
   "metadata": {},
   "outputs": [],
   "source": [
    "data_dir = '/home/grzegorz/Kaggle/Santander'\n",
    "train_data = pd.read_csv(os.path.join(data_dir, 'train.csv')).drop(columns = 'ID_code')\n",
    "test_data = pd.read_csv(os.path.join(data_dir, 'test.csv')).drop(columns = 'ID_code')\n",
    "trainX = train_data.drop(columns = 'target')\n",
    "trainY = train_data['target']"
   ]
  },
  {
   "cell_type": "code",
   "execution_count": 3,
   "metadata": {},
   "outputs": [],
   "source": [
    "scaler = StandardScaler().fit(trainX)\n",
    "trainX = scaler.transform(trainX)\n",
    "test_data = scaler.transform(test_data)"
   ]
  },
  {
   "cell_type": "code",
   "execution_count": 4,
   "metadata": {},
   "outputs": [],
   "source": [
    "x_train, x_val, y_train, y_val = model_selection.train_test_split(trainX, trainY, test_size = 0.2)"
   ]
  },
  {
   "cell_type": "code",
   "execution_count": 73,
   "metadata": {},
   "outputs": [],
   "source": [
    "class Metrics(k.callbacks.Callback):\n",
    "\n",
    "    def on_train_begin(self, logs={}):\n",
    "        self.val_f1 = []\n",
    "        self.val_recall = []\n",
    "        self.val_precision = []\n",
    " \n",
    "    def on_epoch_end(self, epoch, logs={}):\n",
    "        val_predict = (np.asarray(self.model.predict(self.validation_data[0])))\n",
    "        val_predict = val_predict.astype('int64')\n",
    "        #print(val_predict)\n",
    "        val_targ = self.validation_data[1]\n",
    "        _val_f1 = average_precision_score(val_targ, val_predict)\n",
    "        _val_recall = recall_score(val_targ, val_predict)\n",
    "        _val_precision = precision_score(val_targ, val_predict)\n",
    "        self.val_f1.append(_val_f1)\n",
    "        self.val_recall.append(_val_recall)\n",
    "        self.val_precision.append(_val_precision)\n",
    "        logs[\"val_f1\"] = _val_f1\n",
    "        logs[\"val_recall\"] = _val_recall\n",
    "        logs[\"val_precis\"] = _val_precision\n",
    "\n",
    "        print(\"— val_f1: {} — val_precis: {} — val_recall {}\".format(\n",
    "                 _val_f1, _val_precision, _val_recall))\n",
    "        return\n",
    "    \n",
    "metrics = Metrics()"
   ]
  },
  {
   "cell_type": "code",
   "execution_count": 74,
   "metadata": {},
   "outputs": [
    {
     "data": {
      "text/plain": [
       "1.0"
      ]
     },
     "execution_count": 74,
     "metadata": {},
     "output_type": "execute_result"
    }
   ],
   "source": [
    "f1_score(y_val, y_val)"
   ]
  },
  {
   "cell_type": "code",
   "execution_count": 75,
   "metadata": {},
   "outputs": [],
   "source": [
    "def Loss(history): \n",
    "    loss = history.history['loss'] \n",
    "    val_loss = history.history['val_loss'] \n",
    "    epochs = range(1, len(loss) + 1) \n",
    "    plt.plot(epochs, loss, 'bo', label='Training loss') \n",
    "    plt.plot(epochs, val_loss, 'b', label='Validation loss') \n",
    "    plt.title('Training and validation loss') \n",
    "    plt.xlabel('Epochs') \n",
    "    plt.ylabel('Loss') \n",
    "    plt.legend() \n",
    "    plt.show() \n",
    "                                                                                                                                   \n",
    "\n",
    "def Accuracy(history): \n",
    "    acc = history.history['acc'] \n",
    "    val_acc = history.history['val_acc']\n",
    "    epochs = range(1, len(acc) + 1) \n",
    "    plt.plot(epochs, acc, 'bo', label='Training acc') \n",
    "    plt.plot(epochs, val_acc, 'b', label='Validation acc') \n",
    "    plt.title('Training and validation accuracy') \n",
    "    plt.xlabel('Epochs') \n",
    "    plt.ylabel('Loss') \n",
    "    plt.legend() \n",
    "    plt.show() "
   ]
  },
  {
   "cell_type": "code",
   "execution_count": 76,
   "metadata": {},
   "outputs": [],
   "source": [
    "model = k.models.Sequential()"
   ]
  },
  {
   "cell_type": "code",
   "execution_count": 77,
   "metadata": {},
   "outputs": [],
   "source": [
    "model.add(k.layers.Dense(256, activation = 'relu', input_shape = (x_train.shape[1], ), \n",
    "                         kernel_initializer = k.initializers.Ones(),\n",
    "                         kernel_regularizer = k.regularizers.l1_l2(l1 = 0, l2 = 0)))\n",
    "model.add(k.layers.Dense(128, activation = 'relu', input_shape = (x_train.shape[1], ), \n",
    "                         kernel_initializer = k.initializers.Ones(),\n",
    "                         kernel_regularizer = k.regularizers.l1_l2(l1 = 0, l2 = 0)))\n",
    "model.add(k.layers.Dense(1, activation = 'sigmoid',\n",
    "                         kernel_initializer = k.initializers.Zeros(),\n",
    "                         kernel_regularizer = k.regularizers.l1_l2(l1 = 0, l2 = 0)))"
   ]
  },
  {
   "cell_type": "code",
   "execution_count": 78,
   "metadata": {},
   "outputs": [
    {
     "name": "stdout",
     "output_type": "stream",
     "text": [
      "Model: \"sequential_7\"\n",
      "_________________________________________________________________\n",
      "Layer (type)                 Output Shape              Param #   \n",
      "=================================================================\n",
      "dense_19 (Dense)             (None, 256)               51456     \n",
      "_________________________________________________________________\n",
      "dense_20 (Dense)             (None, 128)               32896     \n",
      "_________________________________________________________________\n",
      "dense_21 (Dense)             (None, 1)                 129       \n",
      "=================================================================\n",
      "Total params: 84,481\n",
      "Trainable params: 84,481\n",
      "Non-trainable params: 0\n",
      "_________________________________________________________________\n"
     ]
    }
   ],
   "source": [
    "model.compile(optimizer='rmsprop', loss='binary_crossentropy', metrics=['accuracy']) \n",
    "callbacks_list=[metrics, k.callbacks.EarlyStopping(monitor='loss',patience=2,)]\n",
    "model.summary()"
   ]
  },
  {
   "cell_type": "code",
   "execution_count": 80,
   "metadata": {},
   "outputs": [
    {
     "name": "stdout",
     "output_type": "stream",
     "text": [
      "Train on 160000 samples, validate on 40000 samples\n",
      "Epoch 1/10\n",
      "160000/160000 [==============================] - 3s 21us/step - loss: 0.9654 - acc: 0.8993 - val_loss: 0.9644 - val_acc: 0.9004\n",
      "— val_f1: 0.099575 — val_precis: 0.0 — val_recall 0.0\n",
      "Epoch 2/10\n",
      "160000/160000 [==============================] - 2s 16us/step - loss: 0.9662 - acc: 0.8993 - val_loss: 0.9628 - val_acc: 0.9004\n",
      "— val_f1: 0.099575 — val_precis: 0.0 — val_recall 0.0\n",
      "Epoch 3/10\n",
      "160000/160000 [==============================] - 3s 20us/step - loss: 0.9642 - acc: 0.8993 - val_loss: 0.9644 - val_acc: 0.9004\n",
      "— val_f1: 0.099575 — val_precis: 0.0 — val_recall 0.0\n",
      "Epoch 4/10\n",
      "160000/160000 [==============================] - 2s 15us/step - loss: 0.9647 - acc: 0.8993 - val_loss: 0.9632 - val_acc: 0.9004\n",
      "— val_f1: 0.099575 — val_precis: 0.0 — val_recall 0.0\n",
      "Epoch 5/10\n",
      "160000/160000 [==============================] - 3s 17us/step - loss: 0.9638 - acc: 0.8993 - val_loss: 0.9646 - val_acc: 0.9004\n",
      "— val_f1: 0.099575 — val_precis: 0.0 — val_recall 0.0\n",
      "Epoch 6/10\n",
      "160000/160000 [==============================] - 3s 17us/step - loss: 0.9641 - acc: 0.8993 - val_loss: 0.9639 - val_acc: 0.9004\n",
      "— val_f1: 0.099575 — val_precis: 0.0 — val_recall 0.0\n",
      "Epoch 7/10\n",
      "160000/160000 [==============================] - 2s 16us/step - loss: 0.9640 - acc: 0.8993 - val_loss: 0.9628 - val_acc: 0.9004\n",
      "— val_f1: 0.099575 — val_precis: 0.0 — val_recall 0.0\n"
     ]
    }
   ],
   "source": [
    "history = model.fit(x_train, y_train, epochs = 10, batch_size = 128, validation_data=(x_val,y_val), \n",
    "                    callbacks=callbacks_list)\n"
   ]
  },
  {
   "cell_type": "code",
   "execution_count": 81,
   "metadata": {},
   "outputs": [
    {
     "data": {
      "image/png": "[encoded data removed]",
      "text/plain": [
       "<matplotlib.figure.Figure at 0x7fd8340c5a90>"
      ]
     },
     "metadata": {
      "needs_background": "light"
     },
     "output_type": "display_data"
    },
    {
     "data": {
      "image/png": "[encoded data removed]",
      "text/plain": [
       "<matplotlib.figure.Figure at 0x7fd8340c56a0>"
      ]
     },
     "metadata": {
      "needs_background": "light"
     },
     "output_type": "display_data"
    },
    {
     "name": "stdout",
     "output_type": "stream",
     "text": [
      "200000/200000 [==============================] - 3s 13us/step\n"
     ]
    },
    {
     "data": {
      "text/plain": [
       "[0.9643351773032546, 0.89951]"
      ]
     },
     "execution_count": 81,
     "metadata": {},
     "output_type": "execute_result"
    }
   ],
   "source": [
    "Accuracy(history)\n",
    "Loss(history)\n",
    "model.evaluate(trainX, trainY)"
   ]
  },
  {
   "cell_type": "code",
   "execution_count": 26,
   "metadata": {},
   "outputs": [
    {
     "data": {
      "text/plain": [
       "{'val_loss': [0.9595355521678924,\n",
       "  0.959259378528595,\n",
       "  0.9579914269447327,\n",
       "  0.956201683473587,\n",
       "  0.9555343068122863,\n",
       "  0.9558167870044708,\n",
       "  0.9561777626991272,\n",
       "  0.9554967751026153,\n",
       "  0.9561539672851562,\n",
       "  0.9552269451618195],\n",
       " 'val_acc': [0.900425,\n",
       "  0.900425,\n",
       "  0.900425,\n",
       "  0.900425,\n",
       "  0.900425,\n",
       "  0.900425,\n",
       "  0.900425,\n",
       "  0.900425,\n",
       "  0.900425,\n",
       "  0.900425],\n",
       " 'loss': [0.9623085250854492,\n",
       "  0.9614063320159912,\n",
       "  0.9618335861206054,\n",
       "  0.9595769980430603,\n",
       "  0.9583305029869079,\n",
       "  0.9576619011878967,\n",
       "  0.9567087089538574,\n",
       "  0.956920001411438,\n",
       "  0.9557645252227783,\n",
       "  0.9540689420700074],\n",
       " 'acc': [0.89928125,\n",
       "  0.89928125,\n",
       "  0.89928125,\n",
       "  0.89928125,\n",
       "  0.89928125,\n",
       "  0.89928125,\n",
       "  0.89928125,\n",
       "  0.89928125,\n",
       "  0.89928125,\n",
       "  0.89928125],\n",
       " 'val_f1': [0.0, 0.0, 0.0, 0.0, 0.0, 0.0, 0.0, 0.0, 0.0, 0.0],\n",
       " 'val_recall': [0.0, 0.0, 0.0, 0.0, 0.0, 0.0, 0.0, 0.0, 0.0, 0.0],\n",
       " 'val_precis': [0.0, 0.0, 0.0, 0.0, 0.0, 0.0, 0.0, 0.0, 0.0, 0.0]}"
      ]
     },
     "execution_count": 26,
     "metadata": {},
     "output_type": "execute_result"
    }
   ],
   "source": [
    "history.history\n"
   ]
  }
 ],
 "metadata": {
  "kernelspec": {
   "display_name": "Python 3",
   "language": "python",
   "name": "python3"
  },
  "language_info": {
   "codemirror_mode": {
    "name": "ipython",
    "version": 3
   },
   "file_extension": ".py",
   "mimetype": "text/x-python",
   "name": "python",
   "nbconvert_exporter": "python",
   "pygments_lexer": "ipython3",
   "version": "3.6.7"
  }
 },
 "nbformat": 4,
 "nbformat_minor": 2
}
